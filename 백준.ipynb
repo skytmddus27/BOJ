{
  "nbformat": 4,
  "nbformat_minor": 0,
  "metadata": {
    "colab": {
      "name": "백준",
      "provenance": [],
      "collapsed_sections": [
        "lGRHbl31YO0S",
        "v6RRkalqOkFC",
        "PtXwftIZjE3m",
        "Kz2_J1L-WC7i",
        "ADCn5UK7biYx",
        "WO5ZsroojimJ",
        "HZdeGCWqv6Q6",
        "QiSmRjXXAK6J",
        "TFu0aifpPL3B"
      ],
      "authorship_tag": "ABX9TyNjubN3vpEZ0pPgat4pvkj2"
    },
    "kernelspec": {
      "name": "python3",
      "display_name": "Python 3"
    },
    "language_info": {
      "name": "python"
    }
  },
  "cells": [
    {
      "cell_type": "markdown",
      "source": [
        "## 1929번 소수 구하기"
      ],
      "metadata": {
        "id": "WWlQ6HePjWYv"
      }
    },
    {
      "cell_type": "code",
      "execution_count": null,
      "metadata": {
        "id": "ld1QY2o7PE6d"
      },
      "outputs": [],
      "source": [
        "import math\n",
        "m, n = map(int, input().split())\n",
        "array = [True for i in range(n + 1)]\n",
        "\n",
        "# 1일때 판정\n",
        "if m == 1: m = 2\n",
        "\n",
        "for i in range(2, int(math.sqrt(n)) + 1):\n",
        "    if array[i] == True:\n",
        "        j = 2\n",
        "        while i * j <= n:\n",
        "            array[i * j] = False\n",
        "            j += 1\n",
        "\n",
        "for i in range(m, n + 1):\n",
        "    if array[i]:\n",
        "        print(i, end = '\\n')"
      ]
    },
    {
      "cell_type": "markdown",
      "source": [
        "## 가희와 함께 하는 3회 코딩테스트\n",
        "* 1번 - 가희와 무궁화호"
      ],
      "metadata": {
        "id": "AEtpGAQ2mNvM"
      }
    },
    {
      "cell_type": "code",
      "source": [
        "import numpy as np\n",
        "import pandas as pd\n",
        "import datetime"
      ],
      "metadata": {
        "id": "WsxFf7Dv6h7f"
      },
      "execution_count": null,
      "outputs": []
    },
    {
      "cell_type": "code",
      "source": [
        "data1 = {'역 번호':[1,2,3,4,5,6,7,8,9,10,\n",
        "                 11,12,13,14,15,16,17,18,19,20,\n",
        "                 21,22,23,24,25,26,27,28,29,30,\n",
        "                 31,32,33,34,35,36,37,38,39,40,\n",
        "                 41,42,43],\n",
        "         '역 이름':['Seoul', 'Yeondeungpo', 'Anyang', 'Suwon', 'Osan', 'Seojeongri', 'Pyeontaek', 'Seonghwan', 'Cheonan', 'Sojeongni',\n",
        "                 'Jeonui', 'Jochiwon', 'Bugang', 'Sintanjin', 'Daejeon', 'Okcheon', 'Iwon', 'Jitan', 'Simcheon', 'Gakgye',\n",
        "                 'Yeongdong', 'Hwanggan', 'Chupungnyeong', 'Gimcheon', 'Gumi', 'Sagok', 'Yangmok', 'Waegwan', 'Sindong', 'Daegu',\n",
        "                 'Dongdaegu', 'Gyeongsan', 'Namseonghyeon', 'Cheongdo', 'Sangdong', 'Miryang', 'Samnangjin', 'Wondong', 'Mulgeum', 'Hwamyeong',\n",
        "                 'Gupo', 'Sasang', 'Busan'],\n",
        "         '거리 (km)':[0.0, 9.1, 23.9, 41.5, 56.5, 66.5, 75.0, 84.4, 96.6, 107.4,\n",
        "                    114.9, 129.3, 139.8, 151.9, 166.3, 182.5, 190.8, 196.4, 200.8, 204.6,\n",
        "                    211.6, 226.2, 234.7, 253.8, 276.7, 281.3, 289.5, 296.0, 305.9, 323.1,\n",
        "                    326.3, 338.6, 353.1, 361.8, 372.2, 381.6, 394.1, 403.2, 412.4, 421.8,\n",
        "                    425.2, 430.3, 441.7],\n",
        "         '필수 정차 여부':['Y','Y','N','Y','N','N','Y','N','Y','N',\n",
        "                     'N','Y','N','N','Y','N','N','N','N','N',\n",
        "                     'Y','N','N','Y','Y','N','N','Y','N','Y',\n",
        "                     'Y','N','N','N','N','Y','N','N','N','N',\n",
        "                     'Y','N','Y']}"
      ],
      "metadata": {
        "id": "nQ559dq2r8Wl"
      },
      "execution_count": null,
      "outputs": []
    },
    {
      "cell_type": "code",
      "source": [
        "data2 = pd.DataFrame(data1)"
      ],
      "metadata": {
        "id": "mLi8paiwxe1k"
      },
      "execution_count": null,
      "outputs": []
    },
    {
      "cell_type": "code",
      "source": [
        "n, q = map(int, input().split())\n",
        "graph = []\n",
        "quest = []\n",
        "\n",
        "# 정차역 이름, 도착 정보, 출발 정보\n",
        "for i in range(n):\n",
        "    a, b, c = input().split()\n",
        "    graph.append((a, b, c))\n",
        "\n",
        "# 질문\n",
        "for i in range(q):\n",
        "    d, e = input().split()\n",
        "    quest.append((d, e))"
      ],
      "metadata": {
        "colab": {
          "base_uri": "https://localhost:8080/"
        },
        "id": "NwLefNUMmWSr",
        "outputId": "53c70014-6527-428c-9b48-a9e34a6c7cdc"
      },
      "execution_count": null,
      "outputs": [
        {
          "name": "stdout",
          "output_type": "stream",
          "text": [
            "18 2\n",
            "Seoul -:- 06:40\n",
            "Yeongdeungpo 06:49 06:50\n",
            "Suwon 07:10 07:11\n",
            "Pyeongtaek 07:31 07:32\n",
            "Cheonan 07:45 07:46\n",
            "Jochiwon 08:07 08:08\n",
            "Daejeon 08:33 08:35\n",
            "Yeongdong 09:01 09:02\n",
            "Gimcheon 09:28 09:29\n",
            "Gumi 09:43 09:44\n",
            "Waegwan 09:56 09:57\n",
            "Daegu 10:14 10:15\n",
            "Dongdaegu 10:19 10:21\n",
            "Gyeongsan 10:30 10:31\n",
            "Cheongdo 10:46 10:47\n",
            "Miryang 10:59 11:00\n",
            "Gupo 11:25 11:26\n",
            "Busan 11:38 -:-\n",
            "Seoul Dongdaegu\n",
            "Miryang Gupo\n"
          ]
        }
      ]
    },
    {
      "cell_type": "code",
      "source": [
        "graph2 = pd.DataFrame(graph, columns = ['정차역 이름', '도착 정보', '출발 정보'])\n",
        "graph2"
      ],
      "metadata": {
        "id": "whxrjlsGzMA2"
      },
      "execution_count": null,
      "outputs": []
    },
    {
      "cell_type": "code",
      "source": [
        "graph3 = graph2.replace('-:-', np.nan)\n",
        "graph3"
      ],
      "metadata": {
        "id": "26xOKRPP6Me_"
      },
      "execution_count": null,
      "outputs": []
    },
    {
      "cell_type": "code",
      "source": [
        "graph3['도착 정보'] = pd.to_datetime(graph3['도착 정보'], format='%H:%M', errors='raise')\n",
        "graph3['출발 정보'] = pd.to_datetime(graph3['출발 정보'], format='%H:%M', errors='raise')"
      ],
      "metadata": {
        "id": "Q-5Wgrpx5oEO"
      },
      "execution_count": null,
      "outputs": []
    },
    {
      "cell_type": "code",
      "source": [
        "graph3['도착 정보'] = np.array(graph3['도착 정보'], dtype = 'datetime64[h]')\n",
        "graph3['출발 정보'] = np.array(graph3['출발 정보'], dtype = 'datetime64[h]')\n",
        "graph3"
      ],
      "metadata": {
        "id": "eGQZA1QVFXLw"
      },
      "execution_count": null,
      "outputs": []
    },
    {
      "cell_type": "code",
      "source": [
        "time = graph3[graph3['정차역 이름'] == quest[0][1]]['도착 정보'] - graph3[graph3['정차역 이름'] == quest[0][0]]['출발 정보'].values"
      ],
      "metadata": {
        "id": "-KNLgB_16pxP"
      },
      "execution_count": null,
      "outputs": []
    },
    {
      "cell_type": "code",
      "source": [
        "time"
      ],
      "metadata": {
        "colab": {
          "base_uri": "https://localhost:8080/"
        },
        "id": "TKba_TpT_6Lp",
        "outputId": "6a04a9ff-fbad-4f83-dee8-45e52e5add70"
      },
      "execution_count": null,
      "outputs": [
        {
          "output_type": "execute_result",
          "data": {
            "text/plain": [
              "12   0 days 03:39:00\n",
              "Name: 도착 정보, dtype: timedelta64[ns]"
            ]
          },
          "metadata": {},
          "execution_count": 146
        }
      ]
    },
    {
      "cell_type": "code",
      "source": [
        "graph3.info()"
      ],
      "metadata": {
        "colab": {
          "base_uri": "https://localhost:8080/"
        },
        "id": "5a2cnava-rY3",
        "outputId": "cce74f50-e1bc-44c9-e84a-c79444622a56"
      },
      "execution_count": null,
      "outputs": [
        {
          "output_type": "stream",
          "name": "stdout",
          "text": [
            "<class 'pandas.core.frame.DataFrame'>\n",
            "RangeIndex: 18 entries, 0 to 17\n",
            "Data columns (total 3 columns):\n",
            " #   Column  Non-Null Count  Dtype         \n",
            "---  ------  --------------  -----         \n",
            " 0   정차역 이름  18 non-null     object        \n",
            " 1   도착 정보   17 non-null     datetime64[ns]\n",
            " 2   출발 정보   17 non-null     datetime64[ns]\n",
            "dtypes: datetime64[ns](2), object(1)\n",
            "memory usage: 560.0+ bytes\n"
          ]
        }
      ]
    },
    {
      "cell_type": "code",
      "source": [
        "for i in range(q):\n",
        "    dist = data2[data2['역 이름'] == quest[i][1]]['거리 (km)'].values \\n\n",
        "            - data2[data2['역 이름'] == quest[i][0]]['거리 (km)'].values\n",
        "    time = graph3[graph3['정차역 이름'] == quest[i][1]]['도착 정보'] - \\n\n",
        "            graph3[graph3['정차역 이름'] == quest[i][0]]['출발 정보']\n",
        "    speed = dist / time"
      ],
      "metadata": {
        "id": "jJj2IE9p4UVu"
      },
      "execution_count": null,
      "outputs": []
    },
    {
      "cell_type": "code",
      "source": [
        "dist = data2[data2['역 이름'] == quest[0][1]]['거리 (km)'].values - data2[data2['역 이름'] == quest[0][0]]['거리 (km)'].values"
      ],
      "metadata": {
        "id": "hwm3283g8iJ3"
      },
      "execution_count": null,
      "outputs": []
    },
    {
      "cell_type": "code",
      "source": [
        "print(dist)"
      ],
      "metadata": {
        "colab": {
          "base_uri": "https://localhost:8080/"
        },
        "id": "nj8tx3WM8kGu",
        "outputId": "9f4cac52-27a9-4d9b-b8d9-3e05ed9297fc"
      },
      "execution_count": null,
      "outputs": [
        {
          "output_type": "stream",
          "name": "stdout",
          "text": [
            "[326.3]\n"
          ]
        }
      ]
    },
    {
      "cell_type": "code",
      "source": [
        "time = graph3[graph3['정차역 이름'] == quest[0][1]]['도착 정보'] - graph3[graph3['정차역 이름'] == quest[0][0]]['출발 정보'].values"
      ],
      "metadata": {
        "id": "i9SFYqaA8xDu"
      },
      "execution_count": null,
      "outputs": []
    },
    {
      "cell_type": "code",
      "source": [
        "time.hour"
      ],
      "metadata": {
        "id": "UR5Wevej83DG"
      },
      "execution_count": null,
      "outputs": []
    },
    {
      "cell_type": "code",
      "source": [
        "dist/pd.Timedelta(time)"
      ],
      "metadata": {
        "id": "6O2hM3Rk83hO"
      },
      "execution_count": null,
      "outputs": []
    },
    {
      "cell_type": "markdown",
      "source": [
        "### 정답"
      ],
      "metadata": {
        "id": "lGRHbl31YO0S"
      }
    },
    {
      "cell_type": "code",
      "source": [
        "import sys\n",
        "\n",
        "# my_input = sys.stdin.readline\n",
        "\n",
        "def init_gyeongbu_line_station_info():\n",
        "    arr = [\n",
        "        '1\tSeoul\t0.0\tY\t23\tChupungnyeong\t234.7\tN',\n",
        "        '2\tYeongdeungpo\t9.1\tY\t24\tGimcheon\t253.8\tY',\n",
        "        '3\tAnyang\t23.9\tN\t25\tGumi\t276.7\tY',\n",
        "        '4\tSuwon\t41.5\tY\t26\tSagok\t281.3\tN',\n",
        "        '5\tOsan\t56.5\tN\t27\tYangmok\t289.5\tN',\n",
        "        '6\tSeojeongri\t66.5\tN\t28\tWaegwan\t296.0\tY',\n",
        "        '7\tPyeongtaek\t75.0\tY\t29\tSindong\t305.9\tN',\n",
        "        '8\tSeonghwan\t84.4\tN\t30\tDaegu\t323.1\tY',\n",
        "        '9\tCheonan\t96.6\tY\t31\tDongdaegu\t326.3\tY',\n",
        "        '10\tSojeongni\t107.4\tN\t32\tGyeongsan\t338.6\tN',\n",
        "        '11\tJeonui\t114.9\tN\t33\tNamseonghyeon\t353.1\tN',\n",
        "        '12\tJochiwon\t129.3\tY\t34\tCheongdo\t361.8\tN',\n",
        "        '13\tBugang\t139.8\tN\t35\tSangdong\t372.2\tN',\n",
        "        '14\tSintanjin\t151.9\tN\t36\tMiryang\t381.6\tY',\n",
        "        '15\tDaejeon\t166.3\tY\t37\tSamnangjin\t394.1\tN',\n",
        "        '16\tOkcheon\t182.5\tN\t38\tWondong\t403.2\tN',\n",
        "        '17\tIwon\t190.8\tN\t39\tMulgeum\t412.4\tN',\n",
        "        '18\tJitan\t196.4\tN\t40\tHwamyeong\t421.8\tN',\n",
        "        '19\tSimcheon\t200.8\tN\t41\tGupo\t425.2\tY',\n",
        "        '20\tGakgye\t204.6\tN\t42\tSasang\t430.3\tN',\n",
        "        '21\tYeongdong\t211.6\tY\t43\tBusan\t441.7\tY',\n",
        "        '22\tHwanggan\t226.2\tN',\n",
        "    ]\n",
        "    dic = {}\n",
        "    for target in arr:\n",
        "        items = target.split()\n",
        "        dic[items[1]] = float(items[2])\n",
        "        if len(items) > 7:\n",
        "            dic[items[5]] = float(items[6])\n",
        "    return dic"
      ],
      "metadata": {
        "id": "XrybPW8rYOly"
      },
      "execution_count": null,
      "outputs": []
    },
    {
      "cell_type": "code",
      "source": [
        "def time_to_num(time):\n",
        "    return 60 * int(time[0:2]) + int(time[3:5])"
      ],
      "metadata": {
        "id": "u0j6FKvkZv_q"
      },
      "execution_count": null,
      "outputs": []
    },
    {
      "cell_type": "code",
      "source": [
        "# 경부선 역 정보 얻어오기.\n",
        "gb_info = init_gyeongbu_line_station_info()\n",
        "n, q = map(int, input().split(' '))\n",
        "s_dic = {}\n",
        "s_list = []\n",
        "for i in range(n):\n",
        "    # station_name hh:mm hh:mm\n",
        "    dia = input().split(' ')\n",
        "    s_list.append(dia[0])\n",
        "    s_dic[dia[0]] = tuple(dia)"
      ],
      "metadata": {
        "colab": {
          "base_uri": "https://localhost:8080/"
        },
        "id": "BmNrIDLzZ11C",
        "outputId": "5a4bb6b1-5110-4eb1-e150-817302843166"
      },
      "execution_count": null,
      "outputs": [
        {
          "name": "stdout",
          "output_type": "stream",
          "text": [
            "18 2\n",
            "Seoul -:- 06:40\n",
            "Yeongdeungpo 06:49 06:50\n",
            "Yeongdeungpo 06:49 06:50\n",
            "Pyeongtaek 07:31 07:32\n",
            "Cheonan 07:45 07:46\n",
            "Jochiwon 08:07 08:08\n",
            "Daejeon 08:33 08:35\n",
            "Yeongdong 09:01 09:02\n",
            "Gimcheon 09:28 09:29\n",
            "Gumi 09:43 09:44\n",
            "Waegwan 09:56 09:57\n",
            "Daegu 10:14 10:15\n",
            "Dongdaegu 10:19 10:21\n",
            "Gyeongsan 10:30 10:31\n",
            "Cheongdo 10:46 10:47\n",
            "Miryang 10:59 11:00\n",
            "Gupo 11:25 11:26\n",
            "Busan 11:38 -:-\n"
          ]
        }
      ]
    },
    {
      "cell_type": "code",
      "source": [
        "for i in range(q):\n",
        "    s = input().split(' ')\n",
        "    s[1] = s[1].replace('\\n', '')\n",
        "\n",
        "    # 거리 구하기\n",
        "    dist = abs(gb_info[s[1]] - gb_info[s[0]])\n",
        "    # 시간 구하기\n",
        "    t0 = time_to_num(s_dic[s[0]][2]) # 출발 시각\n",
        "    t1 = time_to_num(s_dic[s[1]][1]) # 도착 시각\n",
        "    if t0 > t1:\n",
        "        t1 = t1 + 24 * 60\n",
        "    delta_min = t1 - t0\n",
        "    ans = (dist * 60) / delta_min\n",
        "    print(f'{ans:.10f}')"
      ],
      "metadata": {
        "colab": {
          "base_uri": "https://localhost:8080/"
        },
        "id": "f5P-LgakaqJU",
        "outputId": "59b14729-9ca1-4381-ab65-a93fa7fa3b7e"
      },
      "execution_count": null,
      "outputs": [
        {
          "output_type": "stream",
          "name": "stdout",
          "text": [
            "Seoul Dongdaegu\n",
            "89.3972602740\n",
            "Miryang Gupo\n",
            "104.6400000000\n"
          ]
        }
      ]
    },
    {
      "cell_type": "code",
      "source": [
        "s"
      ],
      "metadata": {
        "colab": {
          "base_uri": "https://localhost:8080/"
        },
        "id": "BAcd5zMQa6zT",
        "outputId": "ec6e5c8d-c6f0-46a8-8ab9-8944281f5db5"
      },
      "execution_count": null,
      "outputs": [
        {
          "output_type": "execute_result",
          "data": {
            "text/plain": [
              "['Miryang', 'Gupo']"
            ]
          },
          "metadata": {},
          "execution_count": 39
        }
      ]
    },
    {
      "cell_type": "markdown",
      "source": [
        "## 1158 요세푸스 문제"
      ],
      "metadata": {
        "id": "v6RRkalqOkFC"
      }
    },
    {
      "cell_type": "code",
      "source": [
        "n, k = map(int, input().split())\n",
        "array = list(range(1, n + 1))\n",
        "result = []"
      ],
      "metadata": {
        "colab": {
          "base_uri": "https://localhost:8080/"
        },
        "id": "ldIqk8WRfuep",
        "outputId": "578ce5ad-834f-4fbf-9331-c768341d9a15"
      },
      "execution_count": null,
      "outputs": [
        {
          "name": "stdout",
          "output_type": "stream",
          "text": [
            "7 3\n"
          ]
        }
      ]
    },
    {
      "cell_type": "code",
      "source": [
        "x = 0\n",
        "for i in range(1, n + 1):\n",
        "    x += (k - 1)\n",
        "    while x >= len(array):\n",
        "        x = x % len(array)\n",
        "    result.append(str(array[x]))\n",
        "    del array[x]\n",
        "    n -= 1\n",
        "\n",
        "print('<', ', '.join(result), '>', sep = '')"
      ],
      "metadata": {
        "colab": {
          "base_uri": "https://localhost:8080/"
        },
        "id": "-1IrbKlLPwGK",
        "outputId": "3eadb6bb-fc53-4f2b-ae38-abd5114efeb0"
      },
      "execution_count": null,
      "outputs": [
        {
          "output_type": "stream",
          "name": "stdout",
          "text": [
            "<3, 6, 2, 7, 5, 1, 4>\n"
          ]
        }
      ]
    },
    {
      "cell_type": "code",
      "source": [
        "x = 0\n",
        "for i in range(1, n + 1):\n",
        "    x += (k - 1)\n",
        "    print('x', x)\n",
        "    while x >= len(array):\n",
        "        x = x % len(array)\n",
        "        print(x, len(array))\n",
        "    print(array[x])\n",
        "    del array[x]\n",
        "    n -= 1"
      ],
      "metadata": {
        "id": "sltlLy2WiO67"
      },
      "execution_count": null,
      "outputs": []
    },
    {
      "cell_type": "markdown",
      "source": [
        "## 1758 알바생 강호"
      ],
      "metadata": {
        "id": "PtXwftIZjE3m"
      }
    },
    {
      "cell_type": "code",
      "source": [
        "n = int(input())\n",
        "tip = []\n",
        "for _ in range(n):\n",
        "    tip.append(int(input()))"
      ],
      "metadata": {
        "colab": {
          "base_uri": "https://localhost:8080/"
        },
        "id": "GEq-_PmtjItU",
        "outputId": "b5a716de-42d7-44f2-db3b-2ac6318e5d66"
      },
      "execution_count": null,
      "outputs": [
        {
          "name": "stdout",
          "output_type": "stream",
          "text": [
            "3\n",
            "1\n",
            "2\n",
            "3\n"
          ]
        }
      ]
    },
    {
      "cell_type": "code",
      "source": [
        "tip.sort(reverse = True)"
      ],
      "metadata": {
        "id": "2uyIb9i5j_qc"
      },
      "execution_count": null,
      "outputs": []
    },
    {
      "cell_type": "code",
      "source": [
        "real = 0\n",
        "for i in range(n):\n",
        "    r = tip[i] - i\n",
        "    if r >= 0:\n",
        "        real += r\n",
        "print(real)"
      ],
      "metadata": {
        "colab": {
          "base_uri": "https://localhost:8080/"
        },
        "id": "LTRhmZtJnPl-",
        "outputId": "648c0f1f-0080-4520-cefb-a8042f6b5d66"
      },
      "execution_count": null,
      "outputs": [
        {
          "output_type": "stream",
          "name": "stdout",
          "text": [
            "4\n"
          ]
        }
      ]
    },
    {
      "cell_type": "markdown",
      "source": [
        "## 2839 설탕 배달"
      ],
      "metadata": {
        "id": "Kz2_J1L-WC7i"
      }
    },
    {
      "cell_type": "markdown",
      "source": [
        "* 예제 2까지 가능"
      ],
      "metadata": {
        "id": "Owxa_v2yaG0M"
      }
    },
    {
      "cell_type": "code",
      "source": [
        "n = int(input())\n",
        "\n",
        "p = n // 5\n",
        "r = n % 5\n",
        "\n",
        "p += r // 3\n",
        "rest = r % 3\n",
        "\n",
        "if rest == 0:\n",
        "    print(p)\n",
        "else:\n",
        "    print(-1)"
      ],
      "metadata": {
        "colab": {
          "base_uri": "https://localhost:8080/"
        },
        "id": "1Y29DzbiWZTa",
        "outputId": "c7d197b1-b10e-4d0c-c30c-e84ecd699b91"
      },
      "execution_count": null,
      "outputs": [
        {
          "output_type": "stream",
          "name": "stdout",
          "text": [
            "6\n",
            "-1\n"
          ]
        }
      ]
    },
    {
      "cell_type": "markdown",
      "source": [
        "* 예제 4까지 가능"
      ],
      "metadata": {
        "id": "ON3dCE2vaI0z"
      }
    },
    {
      "cell_type": "code",
      "source": [
        "n = int(input())\n",
        "\n",
        "p = n // 5\n",
        "r = n % 5\n",
        "\n",
        "if r % 3 == 0:\n",
        "    p += r // 3\n",
        "    print(p)\n",
        "else:\n",
        "    p = n // 3\n",
        "    r = n % 3\n",
        "\n",
        "    p += r // 5\n",
        "    rest = r % 5\n",
        "    if rest == 0:\n",
        "        print(p)\n",
        "    else:\n",
        "        print(-1)"
      ],
      "metadata": {
        "colab": {
          "base_uri": "https://localhost:8080/"
        },
        "id": "IS_ONB8BY0wa",
        "outputId": "3664da9b-4af6-48b4-c481-e1db7eacb158"
      },
      "execution_count": null,
      "outputs": [
        {
          "output_type": "stream",
          "name": "stdout",
          "text": [
            "11\n",
            "-1\n"
          ]
        }
      ]
    },
    {
      "cell_type": "code",
      "source": [
        "a = int()"
      ],
      "metadata": {
        "id": "elwFNrQJaVtR"
      },
      "execution_count": null,
      "outputs": []
    },
    {
      "cell_type": "code",
      "source": [
        "a"
      ],
      "metadata": {
        "colab": {
          "base_uri": "https://localhost:8080/"
        },
        "id": "1PArp8HiaeOb",
        "outputId": "95dff95f-62f7-4372-c8ff-12fe73fe65c2"
      },
      "execution_count": null,
      "outputs": [
        {
          "output_type": "execute_result",
          "data": {
            "text/plain": [
              "0"
            ]
          },
          "metadata": {},
          "execution_count": 16
        }
      ]
    },
    {
      "cell_type": "code",
      "source": [
        "n = int(input())\n",
        "a = int()\n",
        "b = int()\n",
        "\n",
        "if n == 3 * a + 5 * b:\n",
        "    print(min(a + b))\n",
        "else:\n",
        "    print(-1)"
      ],
      "metadata": {
        "colab": {
          "base_uri": "https://localhost:8080/"
        },
        "id": "0rMleaYXXlu6",
        "outputId": "c466b729-ae71-4580-fa3a-dac85d3b1948"
      },
      "execution_count": null,
      "outputs": [
        {
          "output_type": "stream",
          "name": "stdout",
          "text": [
            "18\n",
            "-1\n"
          ]
        }
      ]
    },
    {
      "cell_type": "markdown",
      "source": [
        "### 정답"
      ],
      "metadata": {
        "id": "ADCn5UK7biYx"
      }
    },
    {
      "cell_type": "code",
      "source": [
        "n = int(input())\n",
        "count = 0\n",
        "\n",
        "while n >= 0:\n",
        "    if n % 5 == 0:\n",
        "        count += (n // 5)\n",
        "        print(count)\n",
        "        break\n",
        "    n -= 3\n",
        "    count += 1\n",
        "else:\n",
        "    print(-1)"
      ],
      "metadata": {
        "colab": {
          "base_uri": "https://localhost:8080/"
        },
        "id": "f0CtZaXqZ6fr",
        "outputId": "31303447-11d7-4642-8d73-54f7f806fa16"
      },
      "execution_count": null,
      "outputs": [
        {
          "output_type": "stream",
          "name": "stdout",
          "text": [
            "11\n",
            "3\n"
          ]
        }
      ]
    },
    {
      "cell_type": "markdown",
      "source": [
        "## 16987 계란으로 계란치기"
      ],
      "metadata": {
        "id": "WO5ZsroojimJ"
      }
    },
    {
      "cell_type": "code",
      "source": [
        "n = int(input())\n",
        "egg = {}\n",
        "\n",
        "for i in range(n):\n",
        "    sw = map(int, input().split())\n",
        "    egg[i] = tuple(sw)"
      ],
      "metadata": {
        "colab": {
          "base_uri": "https://localhost:8080/"
        },
        "id": "jg5G2ADkmv15",
        "outputId": "5e25f8ff-5a93-4c45-e8a9-104ddffdb65e"
      },
      "execution_count": null,
      "outputs": [
        {
          "name": "stdout",
          "output_type": "stream",
          "text": [
            "3\n",
            "8 5\n",
            "1 100\n",
            "3 5\n"
          ]
        }
      ]
    },
    {
      "cell_type": "code",
      "source": [
        "egg"
      ],
      "metadata": {
        "colab": {
          "base_uri": "https://localhost:8080/"
        },
        "id": "gJI0fqqVn2-5",
        "outputId": "2f0f57fd-ca64-4212-bf3d-4a9744cc0143"
      },
      "execution_count": null,
      "outputs": [
        {
          "output_type": "execute_result",
          "data": {
            "text/plain": [
              "{0: (8, 5), 1: (1, 100), 2: (3, 5)}"
            ]
          },
          "metadata": {},
          "execution_count": 2
        }
      ]
    },
    {
      "cell_type": "code",
      "source": [
        "br =0\n",
        "\n",
        "for i in range(1, n):\n",
        "    egg[0][0] -= egg[n][1]\n",
        "    egg[n][0] -= egg[0][1]\n",
        "    if egg[0][0] <= 0:\n",
        "        if egg[n][0] <= 0:\n",
        "            br += 2\n",
        "        else:\n",
        "            br += 1\n",
        "    else:\n"
      ],
      "metadata": {
        "id": "UqRKpUDzn9oQ"
      },
      "execution_count": null,
      "outputs": []
    },
    {
      "cell_type": "markdown",
      "source": [
        "### 정답"
      ],
      "metadata": {
        "id": "HZdeGCWqv6Q6"
      }
    },
    {
      "cell_type": "code",
      "source": [
        "n = int(input())\n",
        "s = [0] * n\n",
        "w = [0] * n\n",
        "\n",
        "for i in range(n):\n",
        "    s[i], w[i] = map(int, input().split())"
      ],
      "metadata": {
        "colab": {
          "base_uri": "https://localhost:8080/"
        },
        "id": "LREMYzDfy4K6",
        "outputId": "930dacba-a6e4-4e21-8da7-bebb787f5fb9"
      },
      "execution_count": null,
      "outputs": [
        {
          "name": "stdout",
          "output_type": "stream",
          "text": [
            "3\n",
            "8 5\n",
            "1 100\n",
            "3 5\n"
          ]
        }
      ]
    },
    {
      "cell_type": "code",
      "source": [
        "br = 0\n",
        "def bfs(idx, egg):\n",
        "    global br\n",
        "    if idx == n:\n",
        "        cnt = 0\n",
        "        for i in range(n):\n",
        "            if egg[i] <= 0:\n",
        "                cnt += 1\n",
        "        if cnt > br:\n",
        "            br = cnt\n",
        "        return\n",
        "\n",
        "    if egg[idx] > 0:\n",
        "        for i in range(n):\n",
        "            flag = False\n",
        "            if egg[i] > 0 and i != idx:\n",
        "                flag = True\n",
        "                tmp = egg[:]\n",
        "                tmp[i] -= w[idx]\n",
        "                tmp[idx] -= w[i]\n",
        "                bfs(idx+1, tmp)\n",
        "        if not flag:\n",
        "            bfs(idx+1, egg)\n",
        "    else:\n",
        "        bfs(idx+1, egg)\n",
        "\n",
        "bfs(0, s)\n",
        "print(br)"
      ],
      "metadata": {
        "colab": {
          "base_uri": "https://localhost:8080/"
        },
        "id": "Mw1nD50Rv7Jz",
        "outputId": "525de847-c952-44cd-d190-3e40dcd76ba2"
      },
      "execution_count": null,
      "outputs": [
        {
          "output_type": "stream",
          "name": "stdout",
          "text": [
            "3\n"
          ]
        }
      ]
    },
    {
      "cell_type": "markdown",
      "source": [
        "## 18352 특정 거리의 도시 찾기"
      ],
      "metadata": {
        "id": "QiSmRjXXAK6J"
      }
    },
    {
      "cell_type": "code",
      "source": [
        "# 도시의 개수 n, 도로의 개수 m, 거리 정보 k, 출발 도시의 번호 x\n",
        "n, m, k, x = map(int, input().split())\n",
        "# 간선 정보 담기\n",
        "edges = []\n",
        "\n",
        "# a -> b 도시로 이동하는 단방향 도로\n",
        "for _ in range(m):\n",
        "    a, b = map(int, input().split())\n",
        "    edges.append((a, b))"
      ],
      "metadata": {
        "id": "GPRMKfGk0C0K",
        "colab": {
          "base_uri": "https://localhost:8080/"
        },
        "outputId": "76d358b6-458d-4c5f-b9e2-43f017a1ac57"
      },
      "execution_count": null,
      "outputs": [
        {
          "name": "stdout",
          "output_type": "stream",
          "text": [
            "4 4 1 1\n",
            "1 2\n",
            "1 3\n",
            "2 3\n",
            "2 4\n"
          ]
        }
      ]
    },
    {
      "cell_type": "code",
      "source": [
        "INF = int(1e9)\n",
        "dist = [INF] * (n + 1)\n",
        "\n",
        "def bf(start):\n",
        "    dist[start] = 0\n",
        "    for i in range(m):\n",
        "        cur = edges[i][0]\n",
        "        next_node = edges[i][1]\n",
        "        if dist[cur] != INF and dist[next_node] > dist[cur] + 1:\n",
        "            dist[next_node] = dist[cur] + 1\n",
        "    return dist\n",
        "\n",
        "bf(1)"
      ],
      "metadata": {
        "colab": {
          "base_uri": "https://localhost:8080/"
        },
        "id": "EPWNwSCjCt5Z",
        "outputId": "a5438aa5-6e76-4934-d4c3-f87789655405"
      },
      "execution_count": null,
      "outputs": [
        {
          "output_type": "execute_result",
          "data": {
            "text/plain": [
              "[1000000000, 0, 1, 1, 2]"
            ]
          },
          "metadata": {},
          "execution_count": 8
        }
      ]
    },
    {
      "cell_type": "code",
      "source": [
        "bfx = pd.DataFrame(bf(x))\n",
        "if bfx.isin([k]).sum == 0:\n",
        "    print(-1)\n",
        "else:\n",
        "    for i in range(n + 1):\n",
        "        if bf(x)[i] == k:\n",
        "            print(i)"
      ],
      "metadata": {
        "colab": {
          "base_uri": "https://localhost:8080/"
        },
        "id": "BngroVd5KGj3",
        "outputId": "919fc124-1dc0-4ae6-995f-d504f511525a"
      },
      "execution_count": null,
      "outputs": [
        {
          "output_type": "stream",
          "name": "stdout",
          "text": [
            "2\n",
            "3\n"
          ]
        }
      ]
    },
    {
      "cell_type": "code",
      "source": [
        "if k in bf(x):\n",
        "    for i in range(n + 1):\n",
        "        if bf(x)[i] == k:\n",
        "            print(i)\n",
        "else:\n",
        "    print(-1)"
      ],
      "metadata": {
        "colab": {
          "base_uri": "https://localhost:8080/"
        },
        "id": "X5-SvIA1LFXw",
        "outputId": "41cde811-4b0b-4bce-934f-07db13047902"
      },
      "execution_count": null,
      "outputs": [
        {
          "output_type": "stream",
          "name": "stdout",
          "text": [
            "2\n",
            "3\n"
          ]
        }
      ]
    },
    {
      "cell_type": "markdown",
      "source": [
        "### 정답 (bfs 활용)"
      ],
      "metadata": {
        "id": "TFu0aifpPL3B"
      }
    },
    {
      "cell_type": "code",
      "source": [
        "from collections import deque\n",
        "import sys\n",
        "# f = sys.stdin.readline\n",
        "\n",
        "n, m, k, x = map(int, input().split())\n",
        "graph = [[] for _ in range(n + 1)]\n",
        "distance = [0] * (n + 1)\n",
        "visited = [False] * (n + 1)\n",
        "\n",
        "for _ in range(m):\n",
        "    a, b = map(int, input().split())\n",
        "    graph[a].append(b)"
      ],
      "metadata": {
        "colab": {
          "base_uri": "https://localhost:8080/"
        },
        "id": "P7Oc6gygPODO",
        "outputId": "5be4b56e-bd54-4c06-ec7e-2a93f79bc59c"
      },
      "execution_count": null,
      "outputs": [
        {
          "name": "stdout",
          "output_type": "stream",
          "text": [
            "4 4 1 1\n",
            "1 2\n",
            "1 3\n",
            "2 3\n",
            "2 4\n"
          ]
        }
      ]
    },
    {
      "cell_type": "code",
      "source": [
        "def bfs(start):\n",
        "    answer = []\n",
        "    q = deque([start])\n",
        "    visited[start] = True\n",
        "    distance[start] = 0\n",
        "    while q:\n",
        "        now = q.popleft()\n",
        "        for i in graph[now]:\n",
        "            if not visited[i]:\n",
        "                visited[i] = True\n",
        "                q.append(i)\n",
        "                distance[i] = distance[now] + 1\n",
        "                if distance[i] == k:\n",
        "                    answer.append(i)\n",
        "    if len(answer) == 0:\n",
        "        print(-1)\n",
        "    else:\n",
        "        answer.sort()\n",
        "        for i in answer:\n",
        "            print(i, end = '\\n')\n",
        "\n",
        "bfs(x)"
      ],
      "metadata": {
        "colab": {
          "base_uri": "https://localhost:8080/"
        },
        "id": "JPghgoztRDFB",
        "outputId": "85f29860-d05d-4c74-acd3-013ce28d964e"
      },
      "execution_count": null,
      "outputs": [
        {
          "output_type": "stream",
          "name": "stdout",
          "text": [
            "2\n",
            "3\n"
          ]
        }
      ]
    },
    {
      "cell_type": "code",
      "source": [
        "q"
      ],
      "metadata": {
        "colab": {
          "base_uri": "https://localhost:8080/"
        },
        "id": "3CtWZWtiSPTB",
        "outputId": "5d5fd195-9b73-42bb-aca5-ba844bd46ced"
      },
      "execution_count": null,
      "outputs": [
        {
          "output_type": "execute_result",
          "data": {
            "text/plain": [
              "deque([1, 2])"
            ]
          },
          "metadata": {},
          "execution_count": 58
        }
      ]
    },
    {
      "cell_type": "code",
      "source": [
        "q.popleft()\n",
        "q"
      ],
      "metadata": {
        "id": "ttB2qsZPSQ8Q",
        "outputId": "b4f0b5b5-f5f1-4e4d-bdfb-bb7fc400f8fb",
        "colab": {
          "base_uri": "https://localhost:8080/"
        }
      },
      "execution_count": null,
      "outputs": [
        {
          "output_type": "execute_result",
          "data": {
            "text/plain": [
              "deque([2])"
            ]
          },
          "metadata": {},
          "execution_count": 59
        }
      ]
    },
    {
      "cell_type": "markdown",
      "source": [
        "## 9372 상근이의 여행"
      ],
      "metadata": {
        "id": "YzzXgYYR7ton"
      }
    },
    {
      "cell_type": "code",
      "source": [
        "# 테스트 케이스의 수 t\n",
        "t = int(input())\n",
        "\n",
        "# 국가의 수 n, 비행기 종류 m\n",
        "for _ in range(t):\n",
        "    n, m = map(int, input().split())\n",
        "    ap = []\n",
        "    visited = [False] * (n + 1)\n",
        "\n",
        "    # a와 b를 왕복하는 비행기\n",
        "    for i in range(m):\n",
        "        a, b = map(int, input().split())\n",
        "        ap[i].append((a, b))\n",
        "\n",
        "    answer = []\n",
        "    q = deque([1])\n",
        "    visited[1] = True\n",
        "\n",
        "    while q:\n",
        "        now = q.popleft()\n",
        "        for i in "
      ],
      "metadata": {
        "id": "96vBcJMpSR8P"
      },
      "execution_count": null,
      "outputs": []
    },
    {
      "cell_type": "code",
      "source": [
        "ap = [(2, 1), (2, 3), (4, 3), (4, 5)]"
      ],
      "metadata": {
        "id": "4MhM20Cd-MP5"
      },
      "execution_count": null,
      "outputs": []
    },
    {
      "cell_type": "code",
      "source": [
        "2 in ap[0]"
      ],
      "metadata": {
        "colab": {
          "base_uri": "https://localhost:8080/"
        },
        "id": "_mMDiEzH-aVX",
        "outputId": "6b89f43e-d4f1-45ed-e012-0238cb70b42d"
      },
      "execution_count": null,
      "outputs": [
        {
          "output_type": "execute_result",
          "data": {
            "text/plain": [
              "True"
            ]
          },
          "metadata": {},
          "execution_count": 15
        }
      ]
    },
    {
      "cell_type": "markdown",
      "source": [
        "### 정답"
      ],
      "metadata": {
        "id": "BYrrhFqNDqfn"
      }
    },
    {
      "cell_type": "code",
      "source": [
        "# 연결되어 있을 때는 그냥 n-1개를 하면 된다.\n",
        "t = int(input())\n",
        "\n",
        "for _ in range(t):\n",
        "    n, m = map(int, input().split())\n",
        "\n",
        "    for _ in range(m):\n",
        "        a, b = map(int, input().split())\n",
        "    print(n - 1)"
      ],
      "metadata": {
        "id": "vLaivJiU-bp-"
      },
      "execution_count": null,
      "outputs": []
    },
    {
      "cell_type": "code",
      "source": [
        "t = int(input())\n",
        "\n",
        "for _ in range(t):\n",
        "    n, m = map(int, input().split())\n",
        "    tree = [[] for _ in range(n + 1)]\n",
        "\n",
        "    for _ in range(m):\n",
        "        a, b = map(int, input().split())\n",
        "        tree[a].append(b)\n",
        "        tree[b].append(a)\n",
        "    \n",
        "    visit = [0] * (n + 1)\n",
        "\n",
        "    def DFS(idx, cnt):\n",
        "        visit[idx] = 1\n",
        "\n",
        "        for i in tree[idx]:\n",
        "            if visit[i] == 0:\n",
        "                cnt = DFS(i, cnt + 1)\n",
        "        \n",
        "        return cnt\n",
        "\n",
        "    result = DFS(1, 0)\n",
        "    print(result)"
      ],
      "metadata": {
        "colab": {
          "base_uri": "https://localhost:8080/"
        },
        "id": "CQMjD7eCEeyv",
        "outputId": "6bf62e4c-5dc4-487b-c9b2-3d46222540fe"
      },
      "execution_count": null,
      "outputs": [
        {
          "output_type": "stream",
          "name": "stdout",
          "text": [
            "2\n",
            "3 3\n",
            "1 2\n",
            "2 3\n",
            "1 3\n",
            "2\n",
            "5 4\n",
            "2 1\n",
            "2 3\n",
            "4 3\n",
            "4 5\n",
            "4\n"
          ]
        }
      ]
    },
    {
      "cell_type": "markdown",
      "source": [
        "## 19352 수학은 비대면강의입니다"
      ],
      "metadata": {
        "id": "OtO23it122P2"
      }
    },
    {
      "cell_type": "code",
      "source": [
        "a, b, c, d, e, f = map(int, input().split())\n",
        "\n",
        "if a*b*d*e != 0:\n",
        "    if (b*d - a*e) != 0:\n",
        "        y = (c*d - a*f) / (b*d - a*e)\n",
        "        x = (c - b*y) / a\n",
        "elif a == 0 & b*d != 0:\n",
        "    y = c / b\n",
        "    x = (f - e*y) / d\n",
        "elif b == 0 & a*e != 0:\n",
        "    x = c / a\n",
        "    y = (f - d*y) / e\n",
        "elif d == 0 & a*e != 0:\n",
        "    y = f / e\n",
        "    x = (c - b*y) / a\n",
        "elif e == 0 & b*d != 0:\n",
        "    x = f / d\n",
        "    y = (c - a*x) / b\n",
        "else:\n",
        "    x, y = 99999/2, 99999/2"
      ],
      "metadata": {
        "id": "H4qz0Hke24G4",
        "colab": {
          "base_uri": "https://localhost:8080/"
        },
        "outputId": "c5b365c0-7384-4670-e28f-963c11036673"
      },
      "execution_count": 32,
      "outputs": [
        {
          "name": "stdout",
          "output_type": "stream",
          "text": [
            "2 5 8 3 -4 -11\n"
          ]
        }
      ]
    },
    {
      "cell_type": "code",
      "source": [
        "if (int(x) == x) & (int(y) == y):\n",
        "    if (-999 <= x) & (x <= 999) & (-999 <= y) & (y <= 999):\n",
        "        print(int(x), int(y))"
      ],
      "metadata": {
        "colab": {
          "base_uri": "https://localhost:8080/"
        },
        "id": "aOxafh-EAfCA",
        "outputId": "6d07b5e4-f453-459a-e3a9-c995e768591d"
      },
      "execution_count": 39,
      "outputs": [
        {
          "output_type": "stream",
          "name": "stdout",
          "text": [
            "-1 2\n"
          ]
        }
      ]
    },
    {
      "cell_type": "code",
      "source": [
        "(-999 <= x) & (x <= 999) & (-999 <= y) & (y <= 999) "
      ],
      "metadata": {
        "colab": {
          "base_uri": "https://localhost:8080/"
        },
        "id": "XGUXokTvCQ_Y",
        "outputId": "ff1ee5b0-b087-46b6-eb4d-f8b7b21b6e53"
      },
      "execution_count": 38,
      "outputs": [
        {
          "output_type": "execute_result",
          "data": {
            "text/plain": [
              "True"
            ]
          },
          "metadata": {},
          "execution_count": 38
        }
      ]
    },
    {
      "cell_type": "code",
      "source": [
        "for i in range(-999, 1000):\n",
        "    for j in range(-999, 1000):\n",
        "        if (a*i) + (b*j) == c and (d*i) + (e*j) == f:\n",
        "            print(i, j)"
      ],
      "metadata": {
        "colab": {
          "base_uri": "https://localhost:8080/"
        },
        "id": "fWcuLLZs8vvi",
        "outputId": "8cd65cfa-f3c2-43dc-9e38-84bd99b7e2b4"
      },
      "execution_count": 34,
      "outputs": [
        {
          "output_type": "stream",
          "name": "stdout",
          "text": [
            "-1 2\n"
          ]
        }
      ]
    },
    {
      "cell_type": "code",
      "source": [
        "int((3/2))"
      ],
      "metadata": {
        "colab": {
          "base_uri": "https://localhost:8080/"
        },
        "id": "v3TmTu4MDoeH",
        "outputId": "67adac13-ddd5-458a-88a2-0975d5d6866d"
      },
      "execution_count": 40,
      "outputs": [
        {
          "output_type": "execute_result",
          "data": {
            "text/plain": [
              "1"
            ]
          },
          "metadata": {},
          "execution_count": 40
        }
      ]
    },
    {
      "cell_type": "code",
      "source": [
        ""
      ],
      "metadata": {
        "id": "rBp2k9ddDqm_"
      },
      "execution_count": null,
      "outputs": []
    }
  ]
}