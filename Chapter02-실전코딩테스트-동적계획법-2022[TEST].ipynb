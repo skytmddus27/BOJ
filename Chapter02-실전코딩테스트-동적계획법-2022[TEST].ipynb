{
 "cells": [
  {
   "cell_type": "markdown",
   "metadata": {},
   "source": [
    "<div class=\"alert alert-block\" style=\"border: 1px solid #455A64;background-color:#ECEFF1;padding:5px;font-size:0.9em;\">\n",
    "본 자료와 관련 영상 컨텐츠는 저작권법 제25조 2항에 의해 보호를 받습니다. <br>본 컨텐츠 및 컨텐츠 일부 문구 등을 외부에 공개하거나, 요약해서 게시하지 말아주세요.<br>\n",
    "    <a href='https://www.fun-coding.org'>잔재미코딩(www.fun-coding.org) Dave Lee</a>\n",
    "</div>"
   ]
  },
  {
   "cell_type": "markdown",
   "metadata": {
    "pycharm": {
     "name": "#%% md\n"
    }
   },
   "source": [
    "<div class=\"alert alert-block\" style=\"border: 2px solid #E65100;background-color:#FFF3E0;padding:10px\">\n",
    "<font size=\"4em\" style=\"font-weight:bold;color:#BF360C;\">코딩 테스트 학습 팁</font><br><br>\n",
    "<font size=\"3em\" style=\"color:#BF360C;\">알고리즘을 익힌 후, 해당 알고리즘과 관련된 문제만 연이어서 쭈욱 풀어보는 방식이 가장 좋습니다</font><br>\n",
    "<font size=\"3em\" style=\"color:#BF360C;\">처음 알고리즘을 익힐 때는 알고리즘을 익힐 때 풀이한 문제를 중심으로 하되,</font><br>\n",
    "<font size=\"3em\" style=\"color:#BF360C;\">필요하면 감을 가지기 위해 여기에 최대한 가장 쉬운 한 두 문제를 푸시고,</font>\n",
    "<font size=\"3em\" style=\"color:#BF360C;\">전체 알고리즘을 다 익힌 후, 가능하면</font><br> \n",
    "<font size=\"3em\" style=\"color:#BF360C;\">각 알고리즘별로 며칠동안 해당 알고리즘 관련 문제만 묶어서 연이어 풀어보세요!</font>\n",
    "</div>"
   ]
  },
  {
   "cell_type": "markdown",
   "metadata": {
    "pycharm": {
     "name": "#%% md\n"
    }
   },
   "source": [
    "### 실전 코딩 테스트 - 동적 계획법"
   ]
  },
  {
   "cell_type": "markdown",
   "metadata": {},
   "source": [
    "### 0. 세상에서 가장 쉽게! 코딩 패턴 익히기 (동적 계획법)\n",
    "- 할 수 있따!!!!\n",
    "```python\n",
    "N = 7 # 출력해야 하는 N 번째\n",
    "dp = [0] * (최대치 + 1)\n",
    "dp[1] = 1 # 1번째의 결과값\n",
    "dp[2] = 2 # 2번째의 결과값\n",
    "for index in range(3, 최대치 + 1): # (가장 처음 점화식으로 계산되는 번째, 최대치 + 1)\n",
    "    dp[index] = dp[index - 1] + dp[index - 2] # 점화식\n",
    "print (dp[N]) # N 번째 값 출력\n",
    "```"
   ]
  },
  {
   "cell_type": "markdown",
   "metadata": {},
   "source": [
    "<div class=\"alert alert-block\" style=\"border: 2px solid #E65100;background-color:#FFF3E0;padding:10px\">\n",
    "<font size=\"4em\" style=\"font-weight:bold;color:#BF360C;\">연습1</font><br><br>\n",
    "<font size=\"3em\" style=\"color:#BF360C;\">점화식: dp[index] = dp[index - 1] + dp[index - 2]</font><br>\n",
    "<font size=\"3em\" style=\"color:#BF360C;\">초기값: dp[1] = 2,  dp[2] = 4</font><br>\n",
    "<font size=\"3em\" style=\"color:#BF360C;\">N 이 7번째 값 출력하기</font>    \n",
    "</div>"
   ]
  },
  {
   "cell_type": "code",
   "execution_count": 2,
   "metadata": {},
   "outputs": [
    {
     "name": "stdout",
     "output_type": "stream",
     "text": [
      "37\n"
     ]
    }
   ],
   "source": [
    "N = 7\n",
    "dp = [0] * 8\n",
    "dp[1] = 1\n",
    "dp[2] = 4\n",
    "for index in range(3, 8):\n",
    "    dp[index] = dp[index - 1] + dp[index - 2]\n",
    "print(dp[N])"
   ]
  },
  {
   "cell_type": "markdown",
   "metadata": {},
   "source": [
    "<div class=\"alert alert-block\" style=\"border: 2px solid #E65100;background-color:#FFF3E0;padding:10px\">\n",
    "<font size=\"4em\" style=\"font-weight:bold;color:#BF360C;\">연습2</font><br><br>\n",
    "<font size=\"3em\" style=\"color:#BF360C;\">점화식: dp[index] = dp[index - 1] + dp[index - 3]</font><br>\n",
    "<font size=\"3em\" style=\"color:#BF360C;\">초기값: dp[1] = 3,  dp[2] = 5, dp[3] = 7</font><br>\n",
    "<font size=\"3em\" style=\"color:#BF360C;\">N 이 20번째 값 출력하기</font>    \n",
    "</div>"
   ]
  },
  {
   "cell_type": "code",
   "execution_count": 3,
   "metadata": {},
   "outputs": [
    {
     "name": "stdout",
     "output_type": "stream",
     "text": [
      "4618\n"
     ]
    }
   ],
   "source": [
    "N = 20\n",
    "dp = [0] * 21\n",
    "dp[1] = 3\n",
    "dp[2] = 5\n",
    "dp[3] = 7\n",
    "for index in range(4, 21):\n",
    "    dp[index] = dp[index - 1] + dp[index - 3]\n",
    "print(dp[N])"
   ]
  },
  {
   "cell_type": "markdown",
   "metadata": {},
   "source": [
    "<div class=\"alert alert-block\" style=\"border: 2px solid #E65100;background-color:#FFF3E0;padding:10px\">\n",
    "<font size=\"4em\" style=\"font-weight:bold;color:#BF360C;\">연습3</font><br><br>\n",
    "<font size=\"3em\" style=\"color:#BF360C;\">점화식: dp[index] = dp[index - 1] + dp[index - 2] + dp[index - 3]</font><br>\n",
    "<font size=\"3em\" style=\"color:#BF360C;\">초기값: dp[1] = 1,  dp[2] = 2, dp[3] = 3</font><br>    \n",
    "<font size=\"3em\" style=\"color:#BF360C;\">N 이 50번째 값 출력하기</font>    \n",
    "</div>"
   ]
  },
  {
   "cell_type": "code",
   "execution_count": 4,
   "metadata": {},
   "outputs": [
    {
     "name": "stdout",
     "output_type": "stream",
     "text": [
      "8864740270458\n"
     ]
    }
   ],
   "source": [
    "N = 50\n",
    "dp = [0] * 51\n",
    "dp[1] = 1\n",
    "dp[2] = 2\n",
    "dp[3] = 3\n",
    "for index in range(4, 51):\n",
    "    dp[index] = dp[index - 1] + dp[index - 2] + dp[index - 3]\n",
    "print(dp[N])"
   ]
  },
  {
   "cell_type": "markdown",
   "metadata": {},
   "source": [
    "### 0. 연습문제: 피보나치수열 https://www.acmicpc.net/problem/2747\n",
    "\n",
    "<div class=\"alert alert-block\" style=\"border: 2px solid #E65100;background-color:#FFF3E0;padding:10px\">\n",
    "<font size=\"4em\" style=\"font-weight:bold;color:#BF360C;\">코딩 테스트 팁</font><br><br>\n",
    "<font size=\"3em\" style=\"color:#BF360C;\">일반적인 동적 계획법 문제는 <b>가장 적은 경우의 수부터 계산을 해본 후, 패턴을 찾아,</b> 식(점화식)을 세우는 것이 핵심!</font><br>\n",
    "</div>"
   ]
  },
  {
   "cell_type": "code",
   "execution_count": 1,
   "metadata": {},
   "outputs": [],
   "source": [
    "import sys, io\n",
    "file = open(\"2747_inputs.txt\", 'w')\n",
    "# 다음 데이터에 그대로 여러 데이터를 복사붙여넣기 하면 됨\n",
    "data = \"\"\"10\n",
    "\"\"\"\n",
    "file.write(data)\n",
    "file.close()\n",
    "input_file = open(\"2747_inputs.txt\", \"r\") \n",
    "sys.stdin = io.StringIO(input_file.read())"
   ]
  },
  {
   "cell_type": "code",
   "execution_count": 2,
   "metadata": {},
   "outputs": [
    {
     "name": "stdout",
     "output_type": "stream",
     "text": [
      "55\n"
     ]
    }
   ],
   "source": [
    "import sys\n",
    "input = sys.stdin.readline\n",
    "\n",
    "n = int(input())\n",
    "dp = [0] * 46\n",
    "dp[0] = 0\n",
    "dp[1] = 1\n",
    "for index in range(2, 46):\n",
    "    dp[index] = dp[index - 1] + dp[index - 2]\n",
    "print(dp[n])"
   ]
  },
  {
   "cell_type": "markdown",
   "metadata": {
    "pycharm": {
     "name": "#%% md\n"
    }
   },
   "source": [
    "### 1. 연습 문제: 2xn 타일링 https://www.acmicpc.net/problem/11726"
   ]
  },
  {
   "cell_type": "markdown",
   "metadata": {},
   "source": [
    "<div class=\"alert alert-block\" style=\"border: 2px solid #E65100;background-color:#FFF3E0;padding:10px\">\n",
    "<font size=\"4em\" style=\"font-weight:bold;color:#BF360C;\">코딩 테스트 팁</font><br><br>\n",
    "<font size=\"3em\" style=\"color:#BF360C;\">일반적인 동적 계획법 문제는 <b>가장 적은 경우의 수부터 계산을 해본 후, 패턴을 찾아,</b> 식(점화식)을 세우는 것이 핵심!</font><br>\n",
    "</div>"
   ]
  },
  {
   "cell_type": "markdown",
   "metadata": {},
   "source": [
    "<div class=\"alert alert-block\" style=\"border: 2px solid #E65100;background-color:#FFF3E0;padding:10px\">\n",
    "<font size=\"4em\" style=\"font-weight:bold;color:#BF360C;\">코딩 테스트 팁</font><br><br>\n",
    "<font size=\"3em\" style=\"color:#BF360C;\">1 ~ 1000 특정 숫자까지 숫자 generation 하는 방법</font><br>\n",
    "</div>"
   ]
  },
  {
   "cell_type": "code",
   "execution_count": 1,
   "metadata": {
    "pycharm": {
     "name": "#%%\n"
    }
   },
   "outputs": [],
   "source": [
    "for index in range(1, 1001):\n",
    "    pass\n",
    "    # print(index)"
   ]
  },
  {
   "cell_type": "markdown",
   "metadata": {},
   "source": [
    "<div class=\"alert alert-block\" style=\"border: 2px solid #E65100;background-color:#FFF3E0;padding:10px\">\n",
    "<font size=\"4em\" style=\"font-weight:bold;color:#BF360C;\">코딩 테스트 팁</font><br><br>\n",
    "<font size=\"3em\" style=\"color:#BF360C;\">특정 크기 및 특정 값으로 빈 리스트 만드는 방법</font><br>\n",
    "<font size=\"3em\" style=\"color:#BF360C;\">list comprehension 으로 작성하는 방법이 성능이 조금 더 나을 수는 있음 (이후 별도 코드 작성 팁으로 설명드릴 예정)</font><br>\n",
    "</div>"
   ]
  },
  {
   "cell_type": "code",
   "execution_count": 2,
   "metadata": {
    "pycharm": {
     "name": "#%%\n"
    }
   },
   "outputs": [],
   "source": [
    "dp = [0] * 1001"
   ]
  },
  {
   "cell_type": "code",
   "execution_count": 3,
   "metadata": {
    "pycharm": {
     "name": "#%%\n"
    }
   },
   "outputs": [
    {
     "data": {
      "text/plain": [
       "0"
      ]
     },
     "execution_count": 3,
     "metadata": {},
     "output_type": "execute_result"
    }
   ],
   "source": [
    "dp[1000]"
   ]
  },
  {
   "cell_type": "markdown",
   "metadata": {},
   "source": [
    "### 구현 코드"
   ]
  },
  {
   "cell_type": "code",
   "execution_count": 7,
   "metadata": {},
   "outputs": [],
   "source": [
    "import sys, io\n",
    "file = open(\"inputs.txt\", 'w')\n",
    "# 다음 데이터에 그대로 여러 데이터를 복사붙여넣기 하면 됨\n",
    "data = \"\"\"9\n",
    "\"\"\"\n",
    "file.write(data)\n",
    "file.close()\n",
    "input_file = open(\"inputs.txt\", \"r\") \n",
    "sys.stdin = io.StringIO(input_file.read())"
   ]
  },
  {
   "cell_type": "code",
   "execution_count": 8,
   "metadata": {
    "pycharm": {
     "name": "#%%\n"
    }
   },
   "outputs": [
    {
     "name": "stdout",
     "output_type": "stream",
     "text": [
      "55\n"
     ]
    }
   ],
   "source": []
  },
  {
   "cell_type": "markdown",
   "metadata": {
    "pycharm": {
     "name": "#%% md\n"
    }
   },
   "source": [
    "### 2. 연습문제: 파도반수열 https://www.acmicpc.net/problem/9461"
   ]
  },
  {
   "cell_type": "markdown",
   "metadata": {},
   "source": [
    "<div class=\"alert alert-block\" style=\"border: 2px solid #E65100;background-color:#FFF3E0;padding:10px\">\n",
    "<font size=\"4em\" style=\"font-weight:bold;color:#BF360C;\">코딩 테스트 팁</font><br><br>\n",
    "<font size=\"3em\" style=\"color:#BF360C;\">최근 수학 문제는 언어영역과 유사합니다 (이 부분에 적응하는데 시간이 걸릴 수 있습니다)</font><br>\n",
    "<font size=\"3em\" style=\"color:#BF360C;\">특히 입력이 어떻게 주어지는지, 출력이 어떻게 주어지는지는 최대한 꼼꼼히 확인하고, 그대로 작성해야 합니다</font><br>\n",
    "</div>"
   ]
  },
  {
   "cell_type": "markdown",
   "metadata": {
    "pycharm": {
     "name": "#%% md\n"
    }
   },
   "source": [
    "- 1, 1, 1, 2, 2, 3, 4, 5, 7, 9, 12, ...\n",
    "- 규칙 찾아보기: dp[ i + 3 ] = dp [ i ] + dp [ i + 1 ]"
   ]
  },
  {
   "cell_type": "code",
   "execution_count": 8,
   "metadata": {},
   "outputs": [],
   "source": [
    "import sys, io\n",
    "file = open(\"9461_inputs.txt\", 'w')\n",
    "# 다음 데이터에 그대로 여러 데이터를 복사붙여넣기 하면 됨\n",
    "data = \"\"\"2\n",
    "6\n",
    "12\n",
    "\"\"\"\n",
    "file.write(data)\n",
    "file.close()\n",
    "input_file = open(\"9461_inputs.txt\", \"r\") \n",
    "sys.stdin = io.StringIO(input_file.read())"
   ]
  },
  {
   "cell_type": "code",
   "execution_count": 9,
   "metadata": {},
   "outputs": [
    {
     "name": "stdout",
     "output_type": "stream",
     "text": [
      "3\n",
      "16\n"
     ]
    }
   ],
   "source": [
    "import sys\n",
    "input = sys.stdin.readline\n",
    "t = int(input())\n",
    "dp = [0] * 101\n",
    "dp[1] = 1\n",
    "dp[2] = 1   \n",
    "dp[3] = 1\n",
    "for index in range(1, 98):\n",
    "    dp[index + 3] = dp[index] + dp[index + 1]\n",
    "\n",
    "for _ in range(t):\n",
    "    print(dp[int(input())])"
   ]
  },
  {
   "cell_type": "code",
   "execution_count": 10,
   "metadata": {},
   "outputs": [
    {
     "data": {
      "text/plain": [
       "888855064897"
      ]
     },
     "execution_count": 10,
     "metadata": {},
     "output_type": "execute_result"
    }
   ],
   "source": [
    "dp[100]"
   ]
  },
  {
   "cell_type": "markdown",
   "metadata": {
    "pycharm": {
     "name": "#%% md\n"
    }
   },
   "source": [
    "### 3. 연습문제: 01타일 https://www.acmicpc.net/problem/1904"
   ]
  },
  {
   "cell_type": "markdown",
   "metadata": {},
   "source": [
    "<div class=\"alert alert-block\" style=\"border: 2px solid #E65100;background-color:#FFF3E0;padding:10px\">\n",
    "<font size=\"4em\" style=\"font-weight:bold;color:#BF360C;\">코딩 테스트 팁</font><br><br>\n",
    "<font size=\"3em\" style=\"color:#BF360C;\">규칙을 찾는 것은 경험일 수 있습니다만, 우연히 빠르게 찾게 되면 술술 풀리고, 헤메면 당황할 수 있습니다</font><br>\n",
    "<font size=\"3em\" style=\"color:#BF360C;\">최대한 그림을 그려보면서, 힌트를 찾아보고, 힌트가 안보이면, 다른 각도로 그림을 그려보며 힌트를 찾아야 함 (멘탈 관리 필요)</font><br>\n",
    "<font size=\"3em\" style=\"color:#BF360C;\">제출 후, 에러나면, 메모리 에러, 시간 초과 에러가 많을 수 있으므로, 이런 부분도 고려할 필요가 있음</font><br>    \n",
    "</div>"
   ]
  },
  {
   "cell_type": "markdown",
   "metadata": {
    "pycharm": {
     "name": "#%% md\n"
    }
   },
   "source": [
    "- N = 1(1) : 1\n",
    "- N = 2(2) : 00 11\n",
    "- N = 3(3) : 100 001 111\n",
    "- N = 4(5) : 0000 1100 1001 0011 1111\n",
    "- N = n : (n - 2)00 (n - 1)1\n",
    "> 즉 dp[n] = dp[n - 2] + dp[n - 1]"
   ]
  },
  {
   "cell_type": "code",
   "execution_count": 6,
   "metadata": {},
   "outputs": [],
   "source": [
    "import sys, io\n",
    "file = open(\"1904_inputs.txt\", 'w')\n",
    "# 다음 데이터에 그대로 여러 데이터를 복사붙여넣기 하면 됨\n",
    "data = \"\"\"4\n",
    "\"\"\"\n",
    "file.write(data)\n",
    "file.close()\n",
    "input_file = open(\"1904_inputs.txt\", \"r\") \n",
    "sys.stdin = io.StringIO(input_file.read())"
   ]
  },
  {
   "cell_type": "code",
   "execution_count": 7,
   "metadata": {},
   "outputs": [
    {
     "name": "stdout",
     "output_type": "stream",
     "text": [
      "5\n"
     ]
    }
   ],
   "source": [
    "import sys\n",
    "input = sys.stdin.readline\n",
    "n = int(input())\n",
    "dp = [0] * 1000001\n",
    "dp[1] = 1\n",
    "dp[2] = 2\n",
    "for i in range(3, 1000001):\n",
    "    dp[i] = dp[i - 2] + dp[i - 1]\n",
    "    if dp[i] >= 15746:\n",
    "        dp[i] %= 15746\n",
    "    \n",
    "print(dp[n])"
   ]
  },
  {
   "cell_type": "markdown",
   "metadata": {},
   "source": [
    "### 4. 연습문제: 연속합 https://www.acmicpc.net/problem/1912\n",
    "<div class=\"alert alert-block\" style=\"border: 2px solid #E65100;background-color:#FFF3E0;padding:10px\">\n",
    "<font size=\"4em\" style=\"font-weight:bold;color:#BF360C;\">코딩 테스트 팁</font><br><br>\n",
    "<font size=\"3em\" style=\"color:#BF360C;\">전형적인 점화식이 아닌 경우도 있으므로, 이 부분도 활용할 수 있어야 함</font><br>    \n",
    "</div>"
   ]
  },
  {
   "cell_type": "code",
   "execution_count": 11,
   "metadata": {},
   "outputs": [],
   "source": [
    "import sys, io\n",
    "file = open(\"1912_inputs.txt\", 'w')\n",
    "# 다음 데이터에 그대로 여러 데이터를 복사붙여넣기 하면 됨\n",
    "data = \"\"\"10\n",
    "10 -4 3 1 5 6 -35 12 21 -1\n",
    "\"\"\"\n",
    "file.write(data)\n",
    "file.close()\n",
    "input_file = open(\"1912_inputs.txt\", \"r\") \n",
    "sys.stdin = io.StringIO(input_file.read())"
   ]
  },
  {
   "cell_type": "code",
   "execution_count": null,
   "metadata": {},
   "outputs": [],
   "source": [
    "import sys\n",
    "input = sys.stdin.readline\n",
    "n = int(input())\n",
    "arr = []\n",
    "for _ in range(n):\n",
    "    arr.append(int(input()))\n",
    "\n",
    "while True:\n",
    "    arr"
   ]
  },
  {
   "cell_type": "markdown",
   "metadata": {},
   "source": [
    "### 5. 연습문제: 퇴사 https://www.acmicpc.net/problem/14501"
   ]
  },
  {
   "cell_type": "markdown",
   "metadata": {},
   "source": [
    "<div class=\"alert alert-block\" style=\"border: 2px solid #E65100;background-color:#FFF3E0;padding:10px\">\n",
    "<font size=\"4em\" style=\"color:#BF360C;\">S전자 코딩테스트 기출 문제</font><br>\n",
    "<font size=\"4em\" style=\"color:#BF360C;\">역순 동적계획법 이해</font><br>\n",
    "</div>"
   ]
  },
  {
   "cell_type": "markdown",
   "metadata": {},
   "source": [
    "<div class=\"alert alert-block\" style=\"border: 2px solid #E65100;background-color:#FFF3E0;padding:10px\">\n",
    "<font size=\"4em\" style=\"font-weight:bold;color:#BF360C;\">jupyter notebook 과 코딩 테스트 팁</font><br><br>\n",
    "<font size=\"3em\" style=\"color:#BF360C;\">input() 함수로 일일이 여러 데이터를 입력하기는 무리가 있음</font><br>\n",
    "<font size=\"3em\" style=\"color:#BF360C;\">input() 함수에 여러 데이터를 넣는 방법으로 파일 입력을 sys.stdin (입력 스트림) 에 넣어서 input() 에 순차적으로 넣어줄 수 있음</font><br>\n",
    "<font size=\"3em\" style=\"color:#BF360C;\">jupyter notebook 에서는 sys.stdin (입력 스트림) 이 별도 구현되어 있어서, 위의 동작이 안됨</font><br>\n",
    "<font size=\"3em\" style=\"color:#BF360C;\">다음과 같이 특별한 코드를 사용해서, 바로바로 여러 데이터를 가지고 테스트할 수 있음</font><br>\n",
    "<font size=\"3em\" style=\"color:#BF360C;\">이를 통해, jupyter notebook 이 가지는 코드 작성의 장점을 활용하여, 코딩 테스트를 빠르게 익힐 수 있음</font><br>\n",
    "</div>"
   ]
  },
  {
   "cell_type": "markdown",
   "metadata": {},
   "source": [
    "> 코딩 팁: max(a, b) 내장함수는 a 와 b 중 높은 값을 리턴해줌"
   ]
  },
  {
   "cell_type": "code",
   "execution_count": 25,
   "metadata": {},
   "outputs": [],
   "source": [
    "import sys, io\n",
    "file = open(\"14501_inputs.txt\", 'w')\n",
    "# 다음 데이터에 그대로 여러 데이터를 복사붙여넣기 하면 됨\n",
    "data = \"\"\"10\n",
    "5 50\n",
    "4 40\n",
    "3 30\n",
    "2 20\n",
    "1 10\n",
    "1 10\n",
    "2 20\n",
    "3 30\n",
    "4 40\n",
    "5 50\n",
    "\"\"\"\n",
    "file.write(data)\n",
    "file.close()\n",
    "input_file = open(\"14501_inputs.txt\", \"r\") \n",
    "sys.stdin = io.StringIO(input_file.read())"
   ]
  },
  {
   "cell_type": "code",
   "execution_count": 26,
   "metadata": {},
   "outputs": [
    {
     "name": "stdout",
     "output_type": "stream",
     "text": [
      "10 [0, 0, 0, 0, 0, 0, 0, 0, 0, 0, 0, 0]\n",
      "9 [0, 0, 0, 0, 0, 0, 0, 0, 0, 0, 0, 0]\n",
      "8 [0, 0, 0, 0, 0, 0, 0, 0, 30, 0, 0, 0]\n",
      "7 [0, 0, 0, 0, 0, 0, 0, 30, 30, 0, 0, 0]\n",
      "6 [0, 0, 0, 0, 0, 0, 40, 30, 30, 0, 0, 0]\n",
      "5 [0, 0, 0, 0, 0, 50, 40, 30, 30, 0, 0, 0]\n",
      "4 [0, 0, 0, 0, 60, 50, 40, 30, 30, 0, 0, 0]\n",
      "3 [0, 0, 0, 70, 60, 50, 40, 30, 30, 0, 0, 0]\n",
      "2 [0, 0, 80, 70, 60, 50, 40, 30, 30, 0, 0, 0]\n",
      "1 [0, 90, 80, 70, 60, 50, 40, 30, 30, 0, 0, 0]\n",
      "90\n"
     ]
    }
   ],
   "source": [
    "import sys\n",
    "input = sys.stdin.readline\n",
    "n = int(input())\n",
    "t = [0]*(n+1)\n",
    "p = [0]*(n+1)\n",
    "dp = [0]*(n+2)\n",
    "\n",
    "for i in range(1,n+1):\n",
    "    t[i], p[i] = map(int, input().split())\n",
    "\n",
    "for i in range(n,0,-1):\n",
    "    if(t[i]+i) > n+1:\n",
    "        dp[i] = dp[i+1]\n",
    "    else:\n",
    "        dp[i] = max(dp[i+1], p[i]+dp[i+t[i]])\n",
    "print(dp[1])"
   ]
  },
  {
   "cell_type": "code",
   "execution_count": 16,
   "metadata": {},
   "outputs": [
    {
     "name": "stdout",
     "output_type": "stream",
     "text": [
      "[0, 80, 70, 60, 50, 40, 30, 20, 0, 0, 0, 0]\n"
     ]
    }
   ],
   "source": [
    "print(dp)"
   ]
  },
  {
   "cell_type": "code",
   "execution_count": null,
   "metadata": {},
   "outputs": [],
   "source": [
    "0\n",
    "0\n",
    "30\n",
    "30\n",
    "40\n",
    "50\n",
    "60\n",
    "70\n",
    "80\n",
    "90"
   ]
  },
  {
   "cell_type": "markdown",
   "metadata": {},
   "source": [
    "### 6. 연습문제: palindrome https://www.acmicpc.net/problem/10942\n",
    "<div class=\"alert alert-block\" style=\"border: 2px solid #E65100;background-color:#FFF3E0;padding:10px\">\n",
    "<font size=\"4em\" style=\"color:#BF360C;\">쿠X 코딩테스트 기출 문제</font><br>\n",
    "<font size=\"4em\" style=\"color:#BF360C;\">2차원 배열 기반 동적계획법 이해</font><br>\n",
    "</div>\n",
    "\n",
    "- 앞뒤를 뒤집어도 똑같은 문자열을 팰린드롬(palindrome) 이라고 함"
   ]
  },
  {
   "cell_type": "code",
   "execution_count": 194,
   "metadata": {},
   "outputs": [],
   "source": [
    "import sys, io\n",
    "file = open(\"inputs.txt\", 'w')\n",
    "# 다음 데이터에 그대로 여러 데이터를 복사붙여넣기 하면 됨\n",
    "data = \"\"\"7\n",
    "1 2 1 3 1 2 1\n",
    "4\n",
    "1 3\n",
    "2 5\n",
    "3 3\n",
    "5 7\n",
    "\"\"\"\n",
    "file.write(data)\n",
    "file.close()\n",
    "input_file = open(\"inputs.txt\", \"r\") \n",
    "sys.stdin = io.StringIO(input_file.read())"
   ]
  },
  {
   "cell_type": "code",
   "execution_count": null,
   "metadata": {},
   "outputs": [],
   "source": []
  },
  {
   "cell_type": "markdown",
   "metadata": {},
   "source": [
    "### 7. 연습문제: 행렬곱 https://www.acmicpc.net/problem/11049\n",
    "<div class=\"alert alert-block\" style=\"border: 2px solid #E65100;background-color:#FFF3E0;padding:10px\">\n",
    "<font size=\"4em\" style=\"color:#BF360C;\">난이도: 상급 문제이지만, 유사한 문제이므로 참고로 이해하기로 함</font>\n",
    "</div>\n",
    "\n",
    "- 행렬곱: (행수 X 열수) 라고 했을 때\n",
    "   - (3 X 2) * (2 X 4) = (3 X 4) -> 앞의 열수와 뒤의 행수가 동일해야 함 (행렬곱 조건), 결과는 (앞의 행수, 뒤의 열수) 가 됨\n",
    "   - A의 크기가 5×3이고, B의 크기가 3×2, C의 크기가 2×6인 경우,\n",
    "      - AB 는 5(A의행수) X 3(A의열수) X 2(B의 열수) => 5 X 2 \n",
    "      - AB X C 는 5 X 2 X 6(C의 행수)"
   ]
  },
  {
   "cell_type": "markdown",
   "metadata": {},
   "source": [
    "<div class=\"alert alert-block\" style=\"border: 2px solid #E65100;background-color:#FFF3E0;padding:10px\">\n",
    "<font size=\"4em\" style=\"font-weight:bold;color:#BF360C;\">2차원 데이터 자료구조의 코딩 테스트 팁</font><br><br>\n",
    "<font size=\"3em\" style=\"color:#BF360C;\">다음과 같이 list comprehension 으로 구현 가능 (일반적으로 list comprehension 이 성능이 좋음)</font>\n",
    "</div>"
   ]
  },
  {
   "cell_type": "code",
   "execution_count": 207,
   "metadata": {},
   "outputs": [],
   "source": [
    "import sys, io\n",
    "file = open(\"inputs.txt\", 'w')\n",
    "# 다음 데이터에 그대로 여러 데이터를 복사붙여넣기 하면 됨\n",
    "data = \"\"\"3\n",
    "5 3\n",
    "3 2\n",
    "2 6\n",
    "\"\"\"\n",
    "file.write(data)\n",
    "file.close()\n",
    "input_file = open(\"inputs.txt\", \"r\") \n",
    "sys.stdin = io.StringIO(input_file.read())"
   ]
  },
  {
   "cell_type": "code",
   "execution_count": 208,
   "metadata": {},
   "outputs": [],
   "source": [
    "import sys\n",
    "input = sys.stdin.readline\n",
    "\n",
    "N = int(input())\n",
    "matrix = [list(map(int, input().split())) for _ in range(N)]\n",
    "dp = [[0]*N for index in range(N)] "
   ]
  },
  {
   "cell_type": "code",
   "execution_count": 209,
   "metadata": {},
   "outputs": [
    {
     "name": "stdout",
     "output_type": "stream",
     "text": [
      "첫번째 행렬의 행수: 5 첫번째 행렬의 열수: 3\n"
     ]
    }
   ],
   "source": [
    "print ('첫번째 행렬의 행수:', matrix[0][0], '첫번째 행렬의 열수:', matrix[0][1])"
   ]
  },
  {
   "cell_type": "markdown",
   "metadata": {},
   "source": [
    "### 최종 코드"
   ]
  },
  {
   "cell_type": "code",
   "execution_count": 217,
   "metadata": {},
   "outputs": [],
   "source": [
    "import sys, io\n",
    "file = open(\"inputs.txt\", 'w')\n",
    "# 다음 데이터에 그대로 여러 데이터를 복사붙여넣기 하면 됨\n",
    "data = \"\"\"3\n",
    "5 3\n",
    "3 2\n",
    "2 6\n",
    "\"\"\"\n",
    "file.write(data)\n",
    "file.close()\n",
    "input_file = open(\"inputs.txt\", \"r\") \n",
    "sys.stdin = io.StringIO(input_file.read())"
   ]
  },
  {
   "cell_type": "code",
   "execution_count": null,
   "metadata": {},
   "outputs": [],
   "source": []
  },
  {
   "cell_type": "markdown",
   "metadata": {},
   "source": [
    "### 8. 연습문제: 파일 합치기 https://www.acmicpc.net/problem/11066\n",
    "<div class=\"alert alert-block\" style=\"border: 2px solid #E65100;background-color:#FFF3E0;padding:10px\">\n",
    "<font size=\"4em\" style=\"color:#BF360C;\">난이도: 상급 문제이지만, 유사한 문제이므로 참고로 이해하기로 함</font>\n",
    "</div>"
   ]
  },
  {
   "cell_type": "markdown",
   "metadata": {},
   "source": [
    "<div class=\"alert alert-block\" style=\"border: 2px solid #E65100;background-color:#FFF3E0;padding:10px\">\n",
    "<font size=\"4em\" style=\"font-weight:bold;color:#BF360C;\">시간 초과 코딩 테스트 팁</font><br><br>\n",
    "<font size=\"3em\" style=\"color:#BF360C;\">내장함수도 시간이 걸림</font><br>\n",
    "    <font size=\"3em\" style=\"color:#BF360C;\">다음 코드는 sum() 을 매번 실행해줌으로써, 시간 초과 발생</font><br>\n",
    "<font size=\"3em\" style=\"color:#BF360C;\">미리 계산 결과를 저장하고, 사용하도록 동적 계획법을 적용해줄 수 있음</font></div>"
   ]
  },
  {
   "cell_type": "code",
   "execution_count": 38,
   "metadata": {},
   "outputs": [],
   "source": [
    "import sys, io\n",
    "file = open(\"inputs.txt\", 'w')\n",
    "# 다음 데이터에 그대로 여러 데이터를 복사붙여넣기 하면 됨\n",
    "data = \"\"\"2\n",
    "4\n",
    "40 30 30 50\n",
    "15\n",
    "1 21 3 4 5 35 5 4 3 5 98 21 14 17 32\n",
    "\"\"\"\n",
    "file.write(data)\n",
    "file.close()\n",
    "input_file = open(\"inputs.txt\", \"r\") \n",
    "sys.stdin = io.StringIO(input_file.read())"
   ]
  },
  {
   "cell_type": "code",
   "execution_count": null,
   "metadata": {},
   "outputs": [],
   "source": []
  },
  {
   "cell_type": "markdown",
   "metadata": {},
   "source": [
    "### 9. 연습문제: 파이프 옮기기 1 https://www.acmicpc.net/problem/17070\n",
    "<div class=\"alert alert-block\" style=\"border: 2px solid #E65100;background-color:#FFF3E0;padding:10px\">\n",
    "<font size=\"4em\" style=\"color:#BF360C;\">보드를 기반으로 푸는 문제가 다양하므로, 동적계획법 + 보드 형태에도 익숙해지기로 함</font>\n",
    "</div>\n",
    "<div class=\"alert alert-block\" style=\"border: 2px solid #E65100;background-color:#FFF3E0;padding:10px\">\n",
    "<font size=\"4em\" style=\"color:#BF360C;\">S전자 코딩테스트 기출 문제</font><br>\n",
    "<font size=\"4em\" style=\"color:#BF360C;\">동적계획법+보드 형태 이해</font><br>\n",
    "</div>"
   ]
  },
  {
   "cell_type": "code",
   "execution_count": null,
   "metadata": {},
   "outputs": [],
   "source": [
    "import sys, io\n",
    "file = open(\"inputs.txt\", 'w')\n",
    "# 다음 데이터에 그대로 여러 데이터를 복사붙여넣기 하면 됨\n",
    "data = \"\"\"6\n",
    "0 0 0 0 0 0\n",
    "0 1 0 0 0 0\n",
    "0 0 0 0 0 0\n",
    "0 0 0 0 0 0\n",
    "0 0 0 0 0 0\n",
    "0 0 0 0 0 0\n",
    "\"\"\"\n",
    "file.write(data)\n",
    "file.close()\n",
    "input_file = open(\"inputs.txt\", \"r\") \n",
    "sys.stdin = io.StringIO(input_file.read())"
   ]
  },
  {
   "cell_type": "code",
   "execution_count": null,
   "metadata": {},
   "outputs": [],
   "source": []
  },
  {
   "cell_type": "markdown",
   "metadata": {},
   "source": [
    "<div class=\"alert alert-block\" style=\"border: 1px solid #455A64;background-color:#ECEFF1;padding:5px;font-size:0.9em;\">\n",
    "본 자료와 관련 영상 컨텐츠는 저작권법 제25조 2항에 의해 보호를 받습니다. <br>본 컨텐츠 및 컨텐츠 일부 문구 등을 외부에 공개하거나, 요약해서 게시하지 말아주세요.<br>\n",
    "    <a href='https://www.fun-coding.org'>잔재미코딩(www.fun-coding.org) Dave Lee</a>\n",
    "</div>"
   ]
  }
 ],
 "metadata": {
  "kernelspec": {
   "display_name": "Python 3.8.13 ('nlp')",
   "language": "python",
   "name": "python3"
  },
  "language_info": {
   "codemirror_mode": {
    "name": "ipython",
    "version": 3
   },
   "file_extension": ".py",
   "mimetype": "text/x-python",
   "name": "python",
   "nbconvert_exporter": "python",
   "pygments_lexer": "ipython3",
   "version": "3.8.13"
  },
  "vscode": {
   "interpreter": {
    "hash": "404a91fbb249fde6f39b61af52b602e5284902c2222838522ce44fedcc2d868d"
   }
  }
 },
 "nbformat": 4,
 "nbformat_minor": 4
}
